{
 "cells": [
  {
   "cell_type": "code",
   "execution_count": 1,
   "metadata": {},
   "outputs": [],
   "source": [
    "from sentence_transformers import SentenceTransformer\n",
    "\n",
    "model = SentenceTransformer('all-MiniLM-L6-v2')\n"
   ]
  },
  {
   "cell_type": "code",
   "execution_count": 2,
   "metadata": {},
   "outputs": [],
   "source": [
    "sentences = ['This framework generates embeddings for each input sentence',\n",
    "    'Sentences are passed as a list of string.', \n",
    "    'The quick brown fox jumps over the lazy dog.']\n",
    "sentence_embeddings = model.encode(sentences)"
   ]
  },
  {
   "cell_type": "code",
   "execution_count": 5,
   "metadata": {},
   "outputs": [
    {
     "data": {
      "text/plain": [
       "(3, 384)"
      ]
     },
     "execution_count": 5,
     "metadata": {},
     "output_type": "execute_result"
    }
   ],
   "source": [
    "sentence_embeddings.shape"
   ]
  },
  {
   "cell_type": "code",
   "execution_count": 7,
   "metadata": {},
   "outputs": [
    {
     "data": {
      "text/plain": [
       "tensor([[0.1181]])"
      ]
     },
     "execution_count": 7,
     "metadata": {},
     "output_type": "execute_result"
    }
   ],
   "source": [
    "from sentence_transformers import util\n",
    "\n",
    "util.dot_score(sentence_embeddings[0], sentence_embeddings[2])"
   ]
  },
  {
   "cell_type": "code",
   "execution_count": 8,
   "metadata": {},
   "outputs": [],
   "source": [
    "from sklearn.cluster import KMeans"
   ]
  },
  {
   "cell_type": "code",
   "execution_count": 9,
   "metadata": {},
   "outputs": [],
   "source": [
    "corpus = ['A man is eating food.',\n",
    "          'A man is eating a piece of bread.',\n",
    "          'A man is eating pasta.',\n",
    "          'The girl is carrying a baby.',\n",
    "          'The baby is carried by the woman',\n",
    "          'A man is riding a horse.',\n",
    "          'A man is riding a white horse on an enclosed ground.',\n",
    "          'A monkey is playing drums.',\n",
    "          'Someone in a gorilla costume is playing a set of drums.',\n",
    "          'A cheetah is running behind its prey.',\n",
    "          'A cheetah chases prey on across a field.'\n",
    "          ]\n",
    "corpus_embeddings = model.encode(corpus)"
   ]
  },
  {
   "cell_type": "code",
   "execution_count": 10,
   "metadata": {},
   "outputs": [
    {
     "name": "stdout",
     "output_type": "stream",
     "text": [
      "Cluster  1\n",
      "['A cheetah is running behind its prey.', 'A cheetah chases prey on across a field.']\n",
      "\n",
      "Cluster  2\n",
      "['A man is eating food.', 'A man is eating a piece of bread.', 'A man is eating pasta.']\n",
      "\n",
      "Cluster  3\n",
      "['The girl is carrying a baby.', 'The baby is carried by the woman']\n",
      "\n",
      "Cluster  4\n",
      "['A man is riding a horse.', 'A man is riding a white horse on an enclosed ground.']\n",
      "\n",
      "Cluster  5\n",
      "['A monkey is playing drums.', 'Someone in a gorilla costume is playing a set of drums.']\n",
      "\n"
     ]
    }
   ],
   "source": [
    "num_clusters = 5\n",
    "clustering_model = KMeans(n_clusters=num_clusters)\n",
    "clustering_model.fit(corpus_embeddings)\n",
    "cluster_assignment = clustering_model.labels_\n",
    "\n",
    "clustered_sentences = [[] for i in range(num_clusters)]\n",
    "for sentence_id, cluster_id in enumerate(cluster_assignment):\n",
    "    clustered_sentences[cluster_id].append(corpus[sentence_id])\n",
    "\n",
    "for i, cluster in enumerate(clustered_sentences):\n",
    "    print(\"Cluster \", i+1)\n",
    "    print(cluster)\n",
    "    print(\"\")"
   ]
  },
  {
   "cell_type": "code",
   "execution_count": 13,
   "metadata": {},
   "outputs": [],
   "source": [
    "import argument_embed_vis.example_debates as example_debates\n",
    "\n",
    "e_corpus = example_debates.EXAMPLE_DEBATE_1.split(\".\")\n",
    "corpus_embeddings = model.encode(e_corpus)\n"
   ]
  },
  {
   "cell_type": "code",
   "execution_count": 14,
   "metadata": {},
   "outputs": [
    {
     "data": {
      "text/plain": [
       "(16, 384)"
      ]
     },
     "execution_count": 14,
     "metadata": {},
     "output_type": "execute_result"
    }
   ],
   "source": [
    "corpus_embeddings.shape"
   ]
  },
  {
   "cell_type": "code",
   "execution_count": 20,
   "metadata": {},
   "outputs": [],
   "source": [
    "num_clusters = 5\n",
    "clustering_model = KMeans(n_clusters=num_clusters)\n",
    "clustering_model.fit(corpus_embeddings)\n",
    "cluster_assignment = clustering_model.labels_\n"
   ]
  },
  {
   "cell_type": "code",
   "execution_count": 22,
   "metadata": {},
   "outputs": [
    {
     "name": "stdout",
     "output_type": "stream",
     "text": [
      "Cluster  1\n",
      "[\"Page Jimmy: All the environment benefits can be achieved just by a vegetarian diet, you don't have to go fully vegan\\n\", 'Plant Robert: Only vegetarian would be good for earth is just a myth', ' You either go fully vegan or you are just kidding yourself', 'Plant Robert: Vegan way of eating and living is the only sustainable (for our planet) lifestyle ']\n",
      "\n",
      "Cluster  2\n",
      "['Kirk Hammet: Agree, think of CO2 emissions saved because of less caddle', 'Kirk Hammet: also, less caddle means less incentives for deforestation\\n']\n",
      "\n",
      "Cluster  3\n",
      "['LucasB: This would have severe positive environmental advantages', 'LucasB: This would be much more ethical ', 'LucasB: Agree, in terms of cost, is an extremely -therefore not sustainable- expensive lifestyle']\n",
      "\n",
      "Cluster  4\n",
      "['Kirk Hammet: Veganism is a choice, it should not be forced - especially to children\\n', 'Kirk Hammet: If we raise our children with the same values like our generation did, then we are just fuelling the same viscous circle that destroys our planet', 'Kirk Hammet: this is extreme', 'Kirk Hammet: Veganism, while more ethical, good for the environment, and healthier diet, is not feasible for a great proportion of the human population']\n",
      "\n",
      "Cluster  5\n",
      "['LucasB: Enforcing what to eat to people is against principle of freedom - even if we talk about dietary options', ' I am sure we - as a humanity - can find a way to keep living in this planet while enjoying every once in a while a good steak', ' Only applicable to western societies']\n",
      "\n"
     ]
    }
   ],
   "source": [
    "\n",
    "clustered_sentences = [[] for i in range(num_clusters)]\n",
    "for sentence_id, cluster_id in enumerate(cluster_assignment):\n",
    "    clustered_sentences[cluster_id].append(e_corpus[sentence_id])\n",
    "\n",
    "for i, cluster in enumerate(clustered_sentences):\n",
    "    print(\"Cluster \", i+1)\n",
    "    print(cluster)\n",
    "    print(\"\")"
   ]
  },
  {
   "cell_type": "code",
   "execution_count": 36,
   "metadata": {},
   "outputs": [],
   "source": [
    "import pandas as pd"
   ]
  },
  {
   "cell_type": "code",
   "execution_count": 63,
   "metadata": {},
   "outputs": [
    {
     "name": "stdout",
     "output_type": "stream",
     "text": [
      "[3 2 2 2 1 1 2 2 1 3 2 1 4 2 3 0]\n"
     ]
    }
   ],
   "source": [
    "for num_clusters in [5]:#,3,4,5,6,8,10,12,16]:\n",
    "    # num_clusters = 5\n",
    "    clustering_model = KMeans(n_clusters=num_clusters)\n",
    "    clustering_model.fit(corpus_embeddings)\n",
    "    cluster_assignment = clustering_model.labels_\n",
    "    clustered_sentences = [[] for i in range(num_clusters)]\n",
    "\n",
    "    df = pd.DataFrame(columns=['cluster_id','sentence','sentence_embedding'])\n",
    "\n",
    "    df[\"cluster_id\"] = cluster_assignment\n",
    "    df[\"sentence\"] = e_corpus\n",
    "    df[\"sentence_embedding\"] = corpus_embeddings\n",
    "    # for sentence_id, cluster_id in enumerate(cluster_assignment):\n",
    "        # clustered_sentences[cluster_id].append(e_corpus[sentence_id])\n",
    "\n",
    "    print(cluster_assignment)\n",
    "    # for i, cluster in enumerate(clustered_sentences):\n",
    "    #     print(\"Cluster \", i+1)\n",
    "    #     print(cluster)\n",
    "    #     print(\"\")"
   ]
  },
  {
   "cell_type": "code",
   "execution_count": 42,
   "metadata": {},
   "outputs": [],
   "source": [
    "from yellowbrick.text import TSNEVisualizer\n",
    "from sklearn.manifold import TSNE"
   ]
  },
  {
   "cell_type": "code",
   "execution_count": 48,
   "metadata": {},
   "outputs": [],
   "source": [
    "num_clusters = 3\n",
    "clustering_model = KMeans(n_clusters=num_clusters)\n",
    "clustering_model.fit(corpus_embeddings)\n",
    "cluster_assignment = clustering_model.labels_\n",
    "clustered_sentences = [[] for i in range(num_clusters)]\n",
    "\n",
    "# tsne = TSNEVisualizer()\n",
    "# tsne.fit(corpus_embeddings, cluster_assignment)\n",
    "tsne_dims = TSNE(n_components=2, learning_rate='auto',init='random').fit_transform(corpus_embeddings)\n",
    "\n",
    "df = pd.DataFrame(columns=['cluster_id','sentence','sentence_embedding','tsne_x','tsne_y'])\n",
    "\n",
    "df[\"cluster_id\"] = cluster_assignment\n",
    "df[\"sentence\"] = e_corpus\n",
    "# df[\"sentence_embedding\"] = corpus_embeddings\n",
    "df[\"tsne_x\"] = tsne_dims[:,0]\n",
    "df[\"tsne_y\"] = tsne_dims[:,1]"
   ]
  },
  {
   "cell_type": "code",
   "execution_count": 76,
   "metadata": {},
   "outputs": [
    {
     "name": "stdout",
     "output_type": "stream",
     "text": [
      "2\n",
      "3\n",
      "4\n",
      "5\n",
      "6\n",
      "7\n",
      "8\n"
     ]
    }
   ],
   "source": [
    "all_viz_data ={}\n",
    "for num_clusters in [2,3,4,5,6,7,8]:\n",
    "    print(num_clusters)\n",
    "    clustering_model = KMeans(n_clusters=num_clusters)\n",
    "    clustering_model.fit(corpus_embeddings)\n",
    "    cluster_assignment = clustering_model.labels_\n",
    "    clustered_sentences = [[] for i in range(num_clusters)]\n",
    "\n",
    "    # tsne = TSNEVisualizer()\n",
    "    # tsne.fit(corpus_embeddings, cluster_assignment)\n",
    "    tsne_dims = TSNE(n_components=2, learning_rate='auto', init='random').fit_transform(corpus_embeddings)\n",
    "\n",
    "    df = pd.DataFrame(columns=['cluster_id','sentence',\n",
    "    # 'sentence_embedding',\n",
    "    'tsne_x','tsne_y'])\n",
    "\n",
    "    df[\"cluster_id\"] = cluster_assignment\n",
    "    df[\"sentence\"] = e_corpus\n",
    "    # df[\"sentence_embedding\"] = corpus_embeddings[:,:]\n",
    "    df[\"tsne_x\"] = tsne_dims[:,0]\n",
    "    df[\"tsne_y\"] = tsne_dims[:,1]\n",
    "\n",
    "    all_viz_data[num_clusters] = df"
   ]
  },
  {
   "cell_type": "code",
   "execution_count": 77,
   "metadata": {},
   "outputs": [
    {
     "data": {
      "text/html": [
       "<div>\n",
       "<style scoped>\n",
       "    .dataframe tbody tr th:only-of-type {\n",
       "        vertical-align: middle;\n",
       "    }\n",
       "\n",
       "    .dataframe tbody tr th {\n",
       "        vertical-align: top;\n",
       "    }\n",
       "\n",
       "    .dataframe thead th {\n",
       "        text-align: right;\n",
       "    }\n",
       "</style>\n",
       "<table border=\"1\" class=\"dataframe\">\n",
       "  <thead>\n",
       "    <tr style=\"text-align: right;\">\n",
       "      <th></th>\n",
       "      <th>cluster_id</th>\n",
       "      <th>sentence</th>\n",
       "      <th>tsne_x</th>\n",
       "      <th>tsne_y</th>\n",
       "    </tr>\n",
       "  </thead>\n",
       "  <tbody>\n",
       "    <tr>\n",
       "      <th>0</th>\n",
       "      <td>0</td>\n",
       "      <td>LucasB: This would have severe positive enviro...</td>\n",
       "      <td>48.414768</td>\n",
       "      <td>-128.079865</td>\n",
       "    </tr>\n",
       "    <tr>\n",
       "      <th>1</th>\n",
       "      <td>1</td>\n",
       "      <td>Page Jimmy: All the environment benefits can b...</td>\n",
       "      <td>-33.802704</td>\n",
       "      <td>-48.748253</td>\n",
       "    </tr>\n",
       "    <tr>\n",
       "      <th>2</th>\n",
       "      <td>1</td>\n",
       "      <td>Plant Robert: Only vegetarian would be good fo...</td>\n",
       "      <td>-161.982635</td>\n",
       "      <td>72.538116</td>\n",
       "    </tr>\n",
       "    <tr>\n",
       "      <th>3</th>\n",
       "      <td>1</td>\n",
       "      <td>You either go fully vegan or you are just kid...</td>\n",
       "      <td>-124.689445</td>\n",
       "      <td>-86.382256</td>\n",
       "    </tr>\n",
       "    <tr>\n",
       "      <th>4</th>\n",
       "      <td>0</td>\n",
       "      <td>Kirk Hammet: Agree, think of CO2 emissions sav...</td>\n",
       "      <td>-115.819435</td>\n",
       "      <td>152.812057</td>\n",
       "    </tr>\n",
       "    <tr>\n",
       "      <th>5</th>\n",
       "      <td>0</td>\n",
       "      <td>Kirk Hammet: also, less caddle means less ince...</td>\n",
       "      <td>113.266640</td>\n",
       "      <td>128.961166</td>\n",
       "    </tr>\n",
       "    <tr>\n",
       "      <th>6</th>\n",
       "      <td>1</td>\n",
       "      <td>LucasB: Enforcing what to eat to people is aga...</td>\n",
       "      <td>48.959633</td>\n",
       "      <td>-36.590710</td>\n",
       "    </tr>\n",
       "    <tr>\n",
       "      <th>7</th>\n",
       "      <td>1</td>\n",
       "      <td>Kirk Hammet: Veganism is a choice, it should n...</td>\n",
       "      <td>28.158901</td>\n",
       "      <td>107.445175</td>\n",
       "    </tr>\n",
       "    <tr>\n",
       "      <th>8</th>\n",
       "      <td>0</td>\n",
       "      <td>Kirk Hammet: If we raise our children with the...</td>\n",
       "      <td>-47.268261</td>\n",
       "      <td>-136.882111</td>\n",
       "    </tr>\n",
       "    <tr>\n",
       "      <th>9</th>\n",
       "      <td>0</td>\n",
       "      <td>LucasB: This would be much more ethical</td>\n",
       "      <td>-59.908504</td>\n",
       "      <td>84.362259</td>\n",
       "    </tr>\n",
       "    <tr>\n",
       "      <th>10</th>\n",
       "      <td>1</td>\n",
       "      <td>Plant Robert: Vegan way of eating and living i...</td>\n",
       "      <td>2.074931</td>\n",
       "      <td>29.514139</td>\n",
       "    </tr>\n",
       "    <tr>\n",
       "      <th>11</th>\n",
       "      <td>0</td>\n",
       "      <td>Kirk Hammet: this is extreme</td>\n",
       "      <td>-19.556074</td>\n",
       "      <td>181.965805</td>\n",
       "    </tr>\n",
       "    <tr>\n",
       "      <th>12</th>\n",
       "      <td>1</td>\n",
       "      <td>I am sure we - as a humanity - can find a way...</td>\n",
       "      <td>-93.791100</td>\n",
       "      <td>6.859313</td>\n",
       "    </tr>\n",
       "    <tr>\n",
       "      <th>13</th>\n",
       "      <td>1</td>\n",
       "      <td>Kirk Hammet: Veganism, while more ethical, goo...</td>\n",
       "      <td>103.280678</td>\n",
       "      <td>35.997883</td>\n",
       "    </tr>\n",
       "    <tr>\n",
       "      <th>14</th>\n",
       "      <td>0</td>\n",
       "      <td>LucasB: Agree, in terms of cost, is an extreme...</td>\n",
       "      <td>-187.606506</td>\n",
       "      <td>-17.622358</td>\n",
       "    </tr>\n",
       "    <tr>\n",
       "      <th>15</th>\n",
       "      <td>0</td>\n",
       "      <td>Only applicable to western societies</td>\n",
       "      <td>135.617325</td>\n",
       "      <td>-56.804005</td>\n",
       "    </tr>\n",
       "  </tbody>\n",
       "</table>\n",
       "</div>"
      ],
      "text/plain": [
       "    cluster_id                                           sentence      tsne_x  \\\n",
       "0            0  LucasB: This would have severe positive enviro...   48.414768   \n",
       "1            1  Page Jimmy: All the environment benefits can b...  -33.802704   \n",
       "2            1  Plant Robert: Only vegetarian would be good fo... -161.982635   \n",
       "3            1   You either go fully vegan or you are just kid... -124.689445   \n",
       "4            0  Kirk Hammet: Agree, think of CO2 emissions sav... -115.819435   \n",
       "5            0  Kirk Hammet: also, less caddle means less ince...  113.266640   \n",
       "6            1  LucasB: Enforcing what to eat to people is aga...   48.959633   \n",
       "7            1  Kirk Hammet: Veganism is a choice, it should n...   28.158901   \n",
       "8            0  Kirk Hammet: If we raise our children with the...  -47.268261   \n",
       "9            0           LucasB: This would be much more ethical   -59.908504   \n",
       "10           1  Plant Robert: Vegan way of eating and living i...    2.074931   \n",
       "11           0                       Kirk Hammet: this is extreme  -19.556074   \n",
       "12           1   I am sure we - as a humanity - can find a way...  -93.791100   \n",
       "13           1  Kirk Hammet: Veganism, while more ethical, goo...  103.280678   \n",
       "14           0  LucasB: Agree, in terms of cost, is an extreme... -187.606506   \n",
       "15           0               Only applicable to western societies  135.617325   \n",
       "\n",
       "        tsne_y  \n",
       "0  -128.079865  \n",
       "1   -48.748253  \n",
       "2    72.538116  \n",
       "3   -86.382256  \n",
       "4   152.812057  \n",
       "5   128.961166  \n",
       "6   -36.590710  \n",
       "7   107.445175  \n",
       "8  -136.882111  \n",
       "9    84.362259  \n",
       "10   29.514139  \n",
       "11  181.965805  \n",
       "12    6.859313  \n",
       "13   35.997883  \n",
       "14  -17.622358  \n",
       "15  -56.804005  "
      ]
     },
     "execution_count": 77,
     "metadata": {},
     "output_type": "execute_result"
    }
   ],
   "source": [
    "all_viz_data[2]"
   ]
  },
  {
   "cell_type": "code",
   "execution_count": 78,
   "metadata": {},
   "outputs": [
    {
     "data": {
      "text/html": [
       "<div>\n",
       "<style scoped>\n",
       "    .dataframe tbody tr th:only-of-type {\n",
       "        vertical-align: middle;\n",
       "    }\n",
       "\n",
       "    .dataframe tbody tr th {\n",
       "        vertical-align: top;\n",
       "    }\n",
       "\n",
       "    .dataframe thead th {\n",
       "        text-align: right;\n",
       "    }\n",
       "</style>\n",
       "<table border=\"1\" class=\"dataframe\">\n",
       "  <thead>\n",
       "    <tr style=\"text-align: right;\">\n",
       "      <th></th>\n",
       "      <th>cluster_id</th>\n",
       "      <th>sentence</th>\n",
       "      <th>tsne_x</th>\n",
       "      <th>tsne_y</th>\n",
       "    </tr>\n",
       "  </thead>\n",
       "  <tbody>\n",
       "    <tr>\n",
       "      <th>0</th>\n",
       "      <td>0</td>\n",
       "      <td>LucasB: This would have severe positive enviro...</td>\n",
       "      <td>5.281987</td>\n",
       "      <td>35.591003</td>\n",
       "    </tr>\n",
       "    <tr>\n",
       "      <th>1</th>\n",
       "      <td>2</td>\n",
       "      <td>Page Jimmy: All the environment benefits can b...</td>\n",
       "      <td>36.936951</td>\n",
       "      <td>42.175610</td>\n",
       "    </tr>\n",
       "    <tr>\n",
       "      <th>2</th>\n",
       "      <td>2</td>\n",
       "      <td>Plant Robert: Only vegetarian would be good fo...</td>\n",
       "      <td>-3.363128</td>\n",
       "      <td>-51.439823</td>\n",
       "    </tr>\n",
       "    <tr>\n",
       "      <th>3</th>\n",
       "      <td>2</td>\n",
       "      <td>You either go fully vegan or you are just kid...</td>\n",
       "      <td>27.120630</td>\n",
       "      <td>-28.565918</td>\n",
       "    </tr>\n",
       "    <tr>\n",
       "      <th>4</th>\n",
       "      <td>1</td>\n",
       "      <td>Kirk Hammet: Agree, think of CO2 emissions sav...</td>\n",
       "      <td>-8.150981</td>\n",
       "      <td>-18.694504</td>\n",
       "    </tr>\n",
       "    <tr>\n",
       "      <th>5</th>\n",
       "      <td>1</td>\n",
       "      <td>Kirk Hammet: also, less caddle means less ince...</td>\n",
       "      <td>14.506747</td>\n",
       "      <td>4.977847</td>\n",
       "    </tr>\n",
       "    <tr>\n",
       "      <th>6</th>\n",
       "      <td>0</td>\n",
       "      <td>LucasB: Enforcing what to eat to people is aga...</td>\n",
       "      <td>-16.512831</td>\n",
       "      <td>11.884882</td>\n",
       "    </tr>\n",
       "    <tr>\n",
       "      <th>7</th>\n",
       "      <td>1</td>\n",
       "      <td>Kirk Hammet: Veganism is a choice, it should n...</td>\n",
       "      <td>-50.128983</td>\n",
       "      <td>63.798298</td>\n",
       "    </tr>\n",
       "    <tr>\n",
       "      <th>8</th>\n",
       "      <td>1</td>\n",
       "      <td>Kirk Hammet: If we raise our children with the...</td>\n",
       "      <td>-25.656141</td>\n",
       "      <td>43.282726</td>\n",
       "    </tr>\n",
       "    <tr>\n",
       "      <th>9</th>\n",
       "      <td>0</td>\n",
       "      <td>LucasB: This would be much more ethical</td>\n",
       "      <td>-39.144489</td>\n",
       "      <td>-11.996850</td>\n",
       "    </tr>\n",
       "    <tr>\n",
       "      <th>10</th>\n",
       "      <td>2</td>\n",
       "      <td>Plant Robert: Vegan way of eating and living i...</td>\n",
       "      <td>-47.457943</td>\n",
       "      <td>18.897491</td>\n",
       "    </tr>\n",
       "    <tr>\n",
       "      <th>11</th>\n",
       "      <td>1</td>\n",
       "      <td>Kirk Hammet: this is extreme</td>\n",
       "      <td>-76.451958</td>\n",
       "      <td>31.891953</td>\n",
       "    </tr>\n",
       "    <tr>\n",
       "      <th>12</th>\n",
       "      <td>2</td>\n",
       "      <td>I am sure we - as a humanity - can find a way...</td>\n",
       "      <td>-1.317475</td>\n",
       "      <td>69.749832</td>\n",
       "    </tr>\n",
       "    <tr>\n",
       "      <th>13</th>\n",
       "      <td>1</td>\n",
       "      <td>Kirk Hammet: Veganism, while more ethical, goo...</td>\n",
       "      <td>47.512936</td>\n",
       "      <td>4.127001</td>\n",
       "    </tr>\n",
       "    <tr>\n",
       "      <th>14</th>\n",
       "      <td>0</td>\n",
       "      <td>LucasB: Agree, in terms of cost, is an extreme...</td>\n",
       "      <td>-41.401150</td>\n",
       "      <td>-44.578804</td>\n",
       "    </tr>\n",
       "    <tr>\n",
       "      <th>15</th>\n",
       "      <td>0</td>\n",
       "      <td>Only applicable to western societies</td>\n",
       "      <td>-72.699242</td>\n",
       "      <td>-11.199427</td>\n",
       "    </tr>\n",
       "  </tbody>\n",
       "</table>\n",
       "</div>"
      ],
      "text/plain": [
       "    cluster_id                                           sentence     tsne_x  \\\n",
       "0            0  LucasB: This would have severe positive enviro...   5.281987   \n",
       "1            2  Page Jimmy: All the environment benefits can b...  36.936951   \n",
       "2            2  Plant Robert: Only vegetarian would be good fo...  -3.363128   \n",
       "3            2   You either go fully vegan or you are just kid...  27.120630   \n",
       "4            1  Kirk Hammet: Agree, think of CO2 emissions sav...  -8.150981   \n",
       "5            1  Kirk Hammet: also, less caddle means less ince...  14.506747   \n",
       "6            0  LucasB: Enforcing what to eat to people is aga... -16.512831   \n",
       "7            1  Kirk Hammet: Veganism is a choice, it should n... -50.128983   \n",
       "8            1  Kirk Hammet: If we raise our children with the... -25.656141   \n",
       "9            0           LucasB: This would be much more ethical  -39.144489   \n",
       "10           2  Plant Robert: Vegan way of eating and living i... -47.457943   \n",
       "11           1                       Kirk Hammet: this is extreme -76.451958   \n",
       "12           2   I am sure we - as a humanity - can find a way...  -1.317475   \n",
       "13           1  Kirk Hammet: Veganism, while more ethical, goo...  47.512936   \n",
       "14           0  LucasB: Agree, in terms of cost, is an extreme... -41.401150   \n",
       "15           0               Only applicable to western societies -72.699242   \n",
       "\n",
       "       tsne_y  \n",
       "0   35.591003  \n",
       "1   42.175610  \n",
       "2  -51.439823  \n",
       "3  -28.565918  \n",
       "4  -18.694504  \n",
       "5    4.977847  \n",
       "6   11.884882  \n",
       "7   63.798298  \n",
       "8   43.282726  \n",
       "9  -11.996850  \n",
       "10  18.897491  \n",
       "11  31.891953  \n",
       "12  69.749832  \n",
       "13   4.127001  \n",
       "14 -44.578804  \n",
       "15 -11.199427  "
      ]
     },
     "execution_count": 78,
     "metadata": {},
     "output_type": "execute_result"
    }
   ],
   "source": [
    "all_viz_data[3]"
   ]
  },
  {
   "cell_type": "code",
   "execution_count": 81,
   "metadata": {},
   "outputs": [
    {
     "name": "stdout",
     "output_type": "stream",
     "text": [
      "4.0\n"
     ]
    }
   ],
   "source": [
    "import pickle\n",
    "print(pickle.format_version)"
   ]
  },
  {
   "cell_type": "code",
   "execution_count": 80,
   "metadata": {},
   "outputs": [],
   "source": [
    "pickle.dump(all_viz_data, open(\"example_debate_1_processed.pkl\",'wb'))"
   ]
  },
  {
   "cell_type": "code",
   "execution_count": 82,
   "metadata": {},
   "outputs": [
    {
     "name": "stdout",
     "output_type": "stream",
     "text": [
      "1.4.1\n"
     ]
    }
   ],
   "source": [
    "print(pd.__version__)"
   ]
  },
  {
   "cell_type": "code",
   "execution_count": null,
   "metadata": {},
   "outputs": [],
   "source": []
  }
 ],
 "metadata": {
  "interpreter": {
   "hash": "1c864b79ef592529f99c38ffc652718a02ecceea42f908cac711728170e7bf4d"
  },
  "kernelspec": {
   "display_name": "Python 3.9.7 ('venv': venv)",
   "language": "python",
   "name": "python3"
  },
  "language_info": {
   "codemirror_mode": {
    "name": "ipython",
    "version": 3
   },
   "file_extension": ".py",
   "mimetype": "text/x-python",
   "name": "python",
   "nbconvert_exporter": "python",
   "pygments_lexer": "ipython3",
   "version": "3.9.7"
  },
  "orig_nbformat": 4
 },
 "nbformat": 4,
 "nbformat_minor": 2
}
